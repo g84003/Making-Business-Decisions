{
 "cells": [
  {
   "cell_type": "markdown",
   "id": "2b85e190",
   "metadata": {},
   "source": [
    "## Boosting the revenue for a big online store <a class=\"tocSkip\">"
   ]
  },
  {
   "cell_type": "markdown",
   "id": "4c3b5d1e",
   "metadata": {},
   "source": [
    "## Introduction <a class=\"tocSkip\">\n",
    "   The goal for this project is boosting the revenue for the online store. In order to do that, the analytic department together  with the marketing department compiled a list of hypotheses.<br> \n",
    "   In this project we will prioritize these hypotheses, launch an A/B test, and analyze the results\n"
   ]
  },
  {
   "cell_type": "markdown",
   "id": "56d0a0ff",
   "metadata": {},
   "source": [
    "# PART 1"
   ]
  },
  {
   "cell_type": "markdown",
   "id": "1213b18e",
   "metadata": {},
   "source": [
    "## Data preprocessing<a class=\"tocSkip\">"
   ]
  },
  {
   "cell_type": "code",
   "execution_count": 1,
   "id": "441afbc5",
   "metadata": {},
   "outputs": [],
   "source": [
    "import pandas as pd\n",
    "import matplotlib.pyplot as plt\n",
    "import numpy as np\n",
    "import scipy.stats as stats\n",
    "\n",
    "\n",
    "try:\n",
    "    data1 = pd.read_csv('C:/Users/Anait Akopyan/Desktop/Yclass/Module2/hypotheses_us.csv')\n",
    "except:\n",
    "    data1 = pd.read_csv('/datasets/hypotheses_us.csv') \n"
   ]
  },
  {
   "cell_type": "code",
   "execution_count": 3,
   "id": "b2f6ec29",
   "metadata": {},
   "outputs": [
    {
     "name": "stdout",
     "output_type": "stream",
     "text": [
      "           Hypothesis;Reach;Impact;Confidence;Effort\n",
      "0  Add two new channels for attracting traffic. T...\n",
      "1  Launch your own delivery service. This will sh...\n",
      "2  Add product recommendation blocks to the store...\n",
      "3  Change the category structure. This will incre...\n",
      "4  Change the background color on the main page. ...\n",
      "5  Add a customer review page. This will increase...\n",
      "6  Show banners with current offers and sales on ...\n",
      "7  Add a subscription form to all the main pages....\n",
      "8  Launch a promotion that gives users discounts ...\n"
     ]
    }
   ],
   "source": [
    "\n",
    "print(data1)"
   ]
  },
  {
   "cell_type": "markdown",
   "id": "53e7e96f",
   "metadata": {},
   "source": [
    "lets split the data into columns by ';'"
   ]
  },
  {
   "cell_type": "code",
   "execution_count": 4,
   "id": "aec48f66",
   "metadata": {},
   "outputs": [
    {
     "data": {
      "text/html": [
       "<div>\n",
       "<style scoped>\n",
       "    .dataframe tbody tr th:only-of-type {\n",
       "        vertical-align: middle;\n",
       "    }\n",
       "\n",
       "    .dataframe tbody tr th {\n",
       "        vertical-align: top;\n",
       "    }\n",
       "\n",
       "    .dataframe thead th {\n",
       "        text-align: right;\n",
       "    }\n",
       "</style>\n",
       "<table border=\"1\" class=\"dataframe\">\n",
       "  <thead>\n",
       "    <tr style=\"text-align: right;\">\n",
       "      <th></th>\n",
       "      <th>0</th>\n",
       "      <th>1</th>\n",
       "      <th>2</th>\n",
       "      <th>3</th>\n",
       "      <th>4</th>\n",
       "    </tr>\n",
       "  </thead>\n",
       "  <tbody>\n",
       "    <tr>\n",
       "      <th>0</th>\n",
       "      <td>Add two new channels for attracting traffic. T...</td>\n",
       "      <td>3</td>\n",
       "      <td>10</td>\n",
       "      <td>8</td>\n",
       "      <td>6</td>\n",
       "    </tr>\n",
       "    <tr>\n",
       "      <th>1</th>\n",
       "      <td>Launch your own delivery service. This will sh...</td>\n",
       "      <td>2</td>\n",
       "      <td>5</td>\n",
       "      <td>4</td>\n",
       "      <td>10</td>\n",
       "    </tr>\n",
       "    <tr>\n",
       "      <th>2</th>\n",
       "      <td>Add product recommendation blocks to the store...</td>\n",
       "      <td>8</td>\n",
       "      <td>3</td>\n",
       "      <td>7</td>\n",
       "      <td>3</td>\n",
       "    </tr>\n",
       "  </tbody>\n",
       "</table>\n",
       "</div>"
      ],
      "text/plain": [
       "                                                   0  1   2  3   4\n",
       "0  Add two new channels for attracting traffic. T...  3  10  8   6\n",
       "1  Launch your own delivery service. This will sh...  2   5  4  10\n",
       "2  Add product recommendation blocks to the store...  8   3  7   3"
      ]
     },
     "execution_count": 4,
     "metadata": {},
     "output_type": "execute_result"
    }
   ],
   "source": [
    "data = data1['Hypothesis;Reach;Impact;Confidence;Effort'].apply(lambda x: pd.Series(x.split(';')))\n",
    "data.head(3)"
   ]
  },
  {
   "cell_type": "markdown",
   "id": "bb4cecc3",
   "metadata": {},
   "source": [
    "now split and name the columns"
   ]
  },
  {
   "cell_type": "code",
   "execution_count": 5,
   "id": "f04417dc",
   "metadata": {},
   "outputs": [
    {
     "data": {
      "text/plain": [
       "['Hypothesis', 'Reach', 'Impact', 'Confidence', 'Effort']"
      ]
     },
     "execution_count": 5,
     "metadata": {},
     "output_type": "execute_result"
    }
   ],
   "source": [
    "'Hypothesis;Reach;Impact;Confidence;Effort'.split(';')"
   ]
  },
  {
   "cell_type": "code",
   "execution_count": 6,
   "id": "0723bb29",
   "metadata": {},
   "outputs": [],
   "source": [
    "data.columns = 'Hypothesis;Reach;Impact;Confidence;Effort'.split(';')"
   ]
  },
  {
   "cell_type": "code",
   "execution_count": 7,
   "id": "83abc010",
   "metadata": {},
   "outputs": [
    {
     "name": "stderr",
     "output_type": "stream",
     "text": [
      "<ipython-input-7-03270e070bfd>:1: FutureWarning: Passing a negative integer is deprecated in version 1.0 and will not be supported in future version. Instead, use None to not limit the column width.\n",
      "  pd.set_option('max_colwidth', -1)\n"
     ]
    },
    {
     "data": {
      "text/html": [
       "<div>\n",
       "<style scoped>\n",
       "    .dataframe tbody tr th:only-of-type {\n",
       "        vertical-align: middle;\n",
       "    }\n",
       "\n",
       "    .dataframe tbody tr th {\n",
       "        vertical-align: top;\n",
       "    }\n",
       "\n",
       "    .dataframe thead th {\n",
       "        text-align: right;\n",
       "    }\n",
       "</style>\n",
       "<table border=\"1\" class=\"dataframe\">\n",
       "  <thead>\n",
       "    <tr style=\"text-align: right;\">\n",
       "      <th></th>\n",
       "      <th>Hypothesis</th>\n",
       "      <th>Reach</th>\n",
       "      <th>Impact</th>\n",
       "      <th>Confidence</th>\n",
       "      <th>Effort</th>\n",
       "    </tr>\n",
       "  </thead>\n",
       "  <tbody>\n",
       "    <tr>\n",
       "      <th>0</th>\n",
       "      <td>Add two new channels for attracting traffic. This will bring 30% more users</td>\n",
       "      <td>3</td>\n",
       "      <td>10</td>\n",
       "      <td>8</td>\n",
       "      <td>6</td>\n",
       "    </tr>\n",
       "    <tr>\n",
       "      <th>1</th>\n",
       "      <td>Launch your own delivery service. This will shorten delivery time</td>\n",
       "      <td>2</td>\n",
       "      <td>5</td>\n",
       "      <td>4</td>\n",
       "      <td>10</td>\n",
       "    </tr>\n",
       "    <tr>\n",
       "      <th>2</th>\n",
       "      <td>Add product recommendation blocks to the store's site. This will increase conversion and average purchase size</td>\n",
       "      <td>8</td>\n",
       "      <td>3</td>\n",
       "      <td>7</td>\n",
       "      <td>3</td>\n",
       "    </tr>\n",
       "    <tr>\n",
       "      <th>3</th>\n",
       "      <td>Change the category structure. This will increase conversion since users will find the products they want more quickly</td>\n",
       "      <td>8</td>\n",
       "      <td>3</td>\n",
       "      <td>3</td>\n",
       "      <td>8</td>\n",
       "    </tr>\n",
       "    <tr>\n",
       "      <th>4</th>\n",
       "      <td>Change the background color on the main page. This will increase user engagement</td>\n",
       "      <td>3</td>\n",
       "      <td>1</td>\n",
       "      <td>1</td>\n",
       "      <td>1</td>\n",
       "    </tr>\n",
       "    <tr>\n",
       "      <th>5</th>\n",
       "      <td>Add a customer review page. This will increase the number of orders</td>\n",
       "      <td>3</td>\n",
       "      <td>2</td>\n",
       "      <td>2</td>\n",
       "      <td>3</td>\n",
       "    </tr>\n",
       "    <tr>\n",
       "      <th>6</th>\n",
       "      <td>Show banners with current offers and sales on the main page. This will boost conversion</td>\n",
       "      <td>5</td>\n",
       "      <td>3</td>\n",
       "      <td>8</td>\n",
       "      <td>3</td>\n",
       "    </tr>\n",
       "    <tr>\n",
       "      <th>7</th>\n",
       "      <td>Add a subscription form to all the main pages. This will help you compile a mailing list</td>\n",
       "      <td>10</td>\n",
       "      <td>7</td>\n",
       "      <td>8</td>\n",
       "      <td>5</td>\n",
       "    </tr>\n",
       "    <tr>\n",
       "      <th>8</th>\n",
       "      <td>Launch a promotion that gives users discounts on their birthdays</td>\n",
       "      <td>1</td>\n",
       "      <td>9</td>\n",
       "      <td>9</td>\n",
       "      <td>5</td>\n",
       "    </tr>\n",
       "  </tbody>\n",
       "</table>\n",
       "</div>"
      ],
      "text/plain": [
       "                                                                                                               Hypothesis  \\\n",
       "0  Add two new channels for attracting traffic. This will bring 30% more users                                              \n",
       "1  Launch your own delivery service. This will shorten delivery time                                                        \n",
       "2  Add product recommendation blocks to the store's site. This will increase conversion and average purchase size           \n",
       "3  Change the category structure. This will increase conversion since users will find the products they want more quickly   \n",
       "4  Change the background color on the main page. This will increase user engagement                                         \n",
       "5  Add a customer review page. This will increase the number of orders                                                      \n",
       "6  Show banners with current offers and sales on the main page. This will boost conversion                                  \n",
       "7  Add a subscription form to all the main pages. This will help you compile a mailing list                                 \n",
       "8  Launch a promotion that gives users discounts on their birthdays                                                         \n",
       "\n",
       "  Reach Impact Confidence Effort  \n",
       "0  3     10     8          6      \n",
       "1  2     5      4          10     \n",
       "2  8     3      7          3      \n",
       "3  8     3      3          8      \n",
       "4  3     1      1          1      \n",
       "5  3     2      2          3      \n",
       "6  5     3      8          3      \n",
       "7  10    7      8          5      \n",
       "8  1     9      9          5      "
      ]
     },
     "execution_count": 7,
     "metadata": {},
     "output_type": "execute_result"
    }
   ],
   "source": [
    "pd.set_option('max_colwidth', -1)\n",
    "data"
   ]
  },
  {
   "cell_type": "code",
   "execution_count": 8,
   "id": "c8a79809",
   "metadata": {},
   "outputs": [],
   "source": [
    "cols = ['Reach','Impact','Confidence','Effort']\n",
    "data[cols] = data[cols].apply(pd.to_numeric, errors='coerce', axis=1)"
   ]
  },
  {
   "cell_type": "markdown",
   "id": "bc6356f8",
   "metadata": {},
   "source": [
    "### Conclusion <a class=\"tocSkip\"> \n",
    "- we split the data into columns. Now the dataFrame is ready to work with"
   ]
  },
  {
   "cell_type": "markdown",
   "id": "61dcb4bc",
   "metadata": {},
   "source": [
    "## Part 1. Prioritizing Hypotheses <a class=\"tocSkip\"> "
   ]
  },
  {
   "cell_type": "markdown",
   "id": "fd94792d",
   "metadata": {},
   "source": [
    "### Apply the ICE framework to prioritize hypotheses. Sort them in descending order of priority.\n"
   ]
  },
  {
   "cell_type": "code",
   "execution_count": 9,
   "id": "79d6773e",
   "metadata": {},
   "outputs": [
    {
     "data": {
      "text/html": [
       "<div>\n",
       "<style scoped>\n",
       "    .dataframe tbody tr th:only-of-type {\n",
       "        vertical-align: middle;\n",
       "    }\n",
       "\n",
       "    .dataframe tbody tr th {\n",
       "        vertical-align: top;\n",
       "    }\n",
       "\n",
       "    .dataframe thead th {\n",
       "        text-align: right;\n",
       "    }\n",
       "</style>\n",
       "<table border=\"1\" class=\"dataframe\">\n",
       "  <thead>\n",
       "    <tr style=\"text-align: right;\">\n",
       "      <th></th>\n",
       "      <th>Hypothesis</th>\n",
       "      <th>Reach</th>\n",
       "      <th>Impact</th>\n",
       "      <th>Confidence</th>\n",
       "      <th>Effort</th>\n",
       "      <th>ICE</th>\n",
       "    </tr>\n",
       "  </thead>\n",
       "  <tbody>\n",
       "    <tr>\n",
       "      <th>8</th>\n",
       "      <td>Launch a promotion that gives users discounts on their birthdays</td>\n",
       "      <td>1</td>\n",
       "      <td>9</td>\n",
       "      <td>9</td>\n",
       "      <td>5</td>\n",
       "      <td>16.200000</td>\n",
       "    </tr>\n",
       "    <tr>\n",
       "      <th>0</th>\n",
       "      <td>Add two new channels for attracting traffic. This will bring 30% more users</td>\n",
       "      <td>3</td>\n",
       "      <td>10</td>\n",
       "      <td>8</td>\n",
       "      <td>6</td>\n",
       "      <td>13.333333</td>\n",
       "    </tr>\n",
       "    <tr>\n",
       "      <th>7</th>\n",
       "      <td>Add a subscription form to all the main pages. This will help you compile a mailing list</td>\n",
       "      <td>10</td>\n",
       "      <td>7</td>\n",
       "      <td>8</td>\n",
       "      <td>5</td>\n",
       "      <td>11.200000</td>\n",
       "    </tr>\n",
       "    <tr>\n",
       "      <th>6</th>\n",
       "      <td>Show banners with current offers and sales on the main page. This will boost conversion</td>\n",
       "      <td>5</td>\n",
       "      <td>3</td>\n",
       "      <td>8</td>\n",
       "      <td>3</td>\n",
       "      <td>8.000000</td>\n",
       "    </tr>\n",
       "    <tr>\n",
       "      <th>2</th>\n",
       "      <td>Add product recommendation blocks to the store's site. This will increase conversion and average purchase size</td>\n",
       "      <td>8</td>\n",
       "      <td>3</td>\n",
       "      <td>7</td>\n",
       "      <td>3</td>\n",
       "      <td>7.000000</td>\n",
       "    </tr>\n",
       "    <tr>\n",
       "      <th>1</th>\n",
       "      <td>Launch your own delivery service. This will shorten delivery time</td>\n",
       "      <td>2</td>\n",
       "      <td>5</td>\n",
       "      <td>4</td>\n",
       "      <td>10</td>\n",
       "      <td>2.000000</td>\n",
       "    </tr>\n",
       "    <tr>\n",
       "      <th>5</th>\n",
       "      <td>Add a customer review page. This will increase the number of orders</td>\n",
       "      <td>3</td>\n",
       "      <td>2</td>\n",
       "      <td>2</td>\n",
       "      <td>3</td>\n",
       "      <td>1.333333</td>\n",
       "    </tr>\n",
       "    <tr>\n",
       "      <th>3</th>\n",
       "      <td>Change the category structure. This will increase conversion since users will find the products they want more quickly</td>\n",
       "      <td>8</td>\n",
       "      <td>3</td>\n",
       "      <td>3</td>\n",
       "      <td>8</td>\n",
       "      <td>1.125000</td>\n",
       "    </tr>\n",
       "    <tr>\n",
       "      <th>4</th>\n",
       "      <td>Change the background color on the main page. This will increase user engagement</td>\n",
       "      <td>3</td>\n",
       "      <td>1</td>\n",
       "      <td>1</td>\n",
       "      <td>1</td>\n",
       "      <td>1.000000</td>\n",
       "    </tr>\n",
       "  </tbody>\n",
       "</table>\n",
       "</div>"
      ],
      "text/plain": [
       "                                                                                                               Hypothesis  \\\n",
       "8  Launch a promotion that gives users discounts on their birthdays                                                         \n",
       "0  Add two new channels for attracting traffic. This will bring 30% more users                                              \n",
       "7  Add a subscription form to all the main pages. This will help you compile a mailing list                                 \n",
       "6  Show banners with current offers and sales on the main page. This will boost conversion                                  \n",
       "2  Add product recommendation blocks to the store's site. This will increase conversion and average purchase size           \n",
       "1  Launch your own delivery service. This will shorten delivery time                                                        \n",
       "5  Add a customer review page. This will increase the number of orders                                                      \n",
       "3  Change the category structure. This will increase conversion since users will find the products they want more quickly   \n",
       "4  Change the background color on the main page. This will increase user engagement                                         \n",
       "\n",
       "   Reach  Impact  Confidence  Effort        ICE  \n",
       "8  1      9       9           5       16.200000  \n",
       "0  3      10      8           6       13.333333  \n",
       "7  10     7       8           5       11.200000  \n",
       "6  5      3       8           3       8.000000   \n",
       "2  8      3       7           3       7.000000   \n",
       "1  2      5       4           10      2.000000   \n",
       "5  3      2       2           3       1.333333   \n",
       "3  8      3       3           8       1.125000   \n",
       "4  3      1       1           1       1.000000   "
      ]
     },
     "execution_count": 9,
     "metadata": {},
     "output_type": "execute_result"
    }
   ],
   "source": [
    "data['ICE'] = (data['Impact'] * data['Confidence']) / data['Effort']\n",
    "data = data.sort_values('ICE',  ascending=False )\n",
    "data"
   ]
  },
  {
   "cell_type": "markdown",
   "id": "05cbb72f",
   "metadata": {},
   "source": [
    " - According to ICE framework hypothesis N8 is the most promising hypothesis - 'Show banners with current offers and sales on the main page. This will boost conversion'\n",
    " - N5, N3 and N4 are at the end of the list "
   ]
  },
  {
   "cell_type": "markdown",
   "id": "5e773872",
   "metadata": {},
   "source": [
    "### Apply the RICE framework to prioritize hypotheses. Sort them in descending order of priority"
   ]
  },
  {
   "cell_type": "code",
   "execution_count": 10,
   "id": "b6bd3ab4",
   "metadata": {},
   "outputs": [
    {
     "data": {
      "text/html": [
       "<div>\n",
       "<style scoped>\n",
       "    .dataframe tbody tr th:only-of-type {\n",
       "        vertical-align: middle;\n",
       "    }\n",
       "\n",
       "    .dataframe tbody tr th {\n",
       "        vertical-align: top;\n",
       "    }\n",
       "\n",
       "    .dataframe thead th {\n",
       "        text-align: right;\n",
       "    }\n",
       "</style>\n",
       "<table border=\"1\" class=\"dataframe\">\n",
       "  <thead>\n",
       "    <tr style=\"text-align: right;\">\n",
       "      <th></th>\n",
       "      <th>Hypothesis</th>\n",
       "      <th>Reach</th>\n",
       "      <th>Impact</th>\n",
       "      <th>Confidence</th>\n",
       "      <th>Effort</th>\n",
       "      <th>ICE</th>\n",
       "      <th>RICE</th>\n",
       "    </tr>\n",
       "  </thead>\n",
       "  <tbody>\n",
       "    <tr>\n",
       "      <th>7</th>\n",
       "      <td>Add a subscription form to all the main pages. This will help you compile a mailing list</td>\n",
       "      <td>10</td>\n",
       "      <td>7</td>\n",
       "      <td>8</td>\n",
       "      <td>5</td>\n",
       "      <td>11.200000</td>\n",
       "      <td>112.0</td>\n",
       "    </tr>\n",
       "    <tr>\n",
       "      <th>2</th>\n",
       "      <td>Add product recommendation blocks to the store's site. This will increase conversion and average purchase size</td>\n",
       "      <td>8</td>\n",
       "      <td>3</td>\n",
       "      <td>7</td>\n",
       "      <td>3</td>\n",
       "      <td>7.000000</td>\n",
       "      <td>56.0</td>\n",
       "    </tr>\n",
       "    <tr>\n",
       "      <th>0</th>\n",
       "      <td>Add two new channels for attracting traffic. This will bring 30% more users</td>\n",
       "      <td>3</td>\n",
       "      <td>10</td>\n",
       "      <td>8</td>\n",
       "      <td>6</td>\n",
       "      <td>13.333333</td>\n",
       "      <td>40.0</td>\n",
       "    </tr>\n",
       "    <tr>\n",
       "      <th>6</th>\n",
       "      <td>Show banners with current offers and sales on the main page. This will boost conversion</td>\n",
       "      <td>5</td>\n",
       "      <td>3</td>\n",
       "      <td>8</td>\n",
       "      <td>3</td>\n",
       "      <td>8.000000</td>\n",
       "      <td>40.0</td>\n",
       "    </tr>\n",
       "    <tr>\n",
       "      <th>8</th>\n",
       "      <td>Launch a promotion that gives users discounts on their birthdays</td>\n",
       "      <td>1</td>\n",
       "      <td>9</td>\n",
       "      <td>9</td>\n",
       "      <td>5</td>\n",
       "      <td>16.200000</td>\n",
       "      <td>16.2</td>\n",
       "    </tr>\n",
       "    <tr>\n",
       "      <th>3</th>\n",
       "      <td>Change the category structure. This will increase conversion since users will find the products they want more quickly</td>\n",
       "      <td>8</td>\n",
       "      <td>3</td>\n",
       "      <td>3</td>\n",
       "      <td>8</td>\n",
       "      <td>1.125000</td>\n",
       "      <td>9.0</td>\n",
       "    </tr>\n",
       "    <tr>\n",
       "      <th>1</th>\n",
       "      <td>Launch your own delivery service. This will shorten delivery time</td>\n",
       "      <td>2</td>\n",
       "      <td>5</td>\n",
       "      <td>4</td>\n",
       "      <td>10</td>\n",
       "      <td>2.000000</td>\n",
       "      <td>4.0</td>\n",
       "    </tr>\n",
       "    <tr>\n",
       "      <th>5</th>\n",
       "      <td>Add a customer review page. This will increase the number of orders</td>\n",
       "      <td>3</td>\n",
       "      <td>2</td>\n",
       "      <td>2</td>\n",
       "      <td>3</td>\n",
       "      <td>1.333333</td>\n",
       "      <td>4.0</td>\n",
       "    </tr>\n",
       "    <tr>\n",
       "      <th>4</th>\n",
       "      <td>Change the background color on the main page. This will increase user engagement</td>\n",
       "      <td>3</td>\n",
       "      <td>1</td>\n",
       "      <td>1</td>\n",
       "      <td>1</td>\n",
       "      <td>1.000000</td>\n",
       "      <td>3.0</td>\n",
       "    </tr>\n",
       "  </tbody>\n",
       "</table>\n",
       "</div>"
      ],
      "text/plain": [
       "                                                                                                               Hypothesis  \\\n",
       "7  Add a subscription form to all the main pages. This will help you compile a mailing list                                 \n",
       "2  Add product recommendation blocks to the store's site. This will increase conversion and average purchase size           \n",
       "0  Add two new channels for attracting traffic. This will bring 30% more users                                              \n",
       "6  Show banners with current offers and sales on the main page. This will boost conversion                                  \n",
       "8  Launch a promotion that gives users discounts on their birthdays                                                         \n",
       "3  Change the category structure. This will increase conversion since users will find the products they want more quickly   \n",
       "1  Launch your own delivery service. This will shorten delivery time                                                        \n",
       "5  Add a customer review page. This will increase the number of orders                                                      \n",
       "4  Change the background color on the main page. This will increase user engagement                                         \n",
       "\n",
       "   Reach  Impact  Confidence  Effort        ICE   RICE  \n",
       "7  10     7       8           5       11.200000  112.0  \n",
       "2  8      3       7           3       7.000000   56.0   \n",
       "0  3      10      8           6       13.333333  40.0   \n",
       "6  5      3       8           3       8.000000   40.0   \n",
       "8  1      9       9           5       16.200000  16.2   \n",
       "3  8      3       3           8       1.125000   9.0    \n",
       "1  2      5       4           10      2.000000   4.0    \n",
       "5  3      2       2           3       1.333333   4.0    \n",
       "4  3      1       1           1       1.000000   3.0    "
      ]
     },
     "execution_count": 10,
     "metadata": {},
     "output_type": "execute_result"
    }
   ],
   "source": [
    "data['RICE'] = (data['Reach'] * data['Impact'] * data['Confidence']) / data['Effort']\n",
    "data = data.sort_values('RICE',  ascending=False )\n",
    "data.head(10)"
   ]
  },
  {
   "cell_type": "markdown",
   "id": "6776a460",
   "metadata": {},
   "source": [
    "According to RICE framework N7 is the most promising hypothesis. N4 is the most unreliable hypothesis"
   ]
  },
  {
   "cell_type": "markdown",
   "id": "badd61eb",
   "metadata": {},
   "source": [
    "### Show how the prioritization of hypotheses changes when you use RICE instead of ICE . Provide an explanation for the changes.\n"
   ]
  },
  {
   "cell_type": "markdown",
   "id": "4e4687ee",
   "metadata": {},
   "source": [
    "The only difference between ICE and RICE framework is Reach Parameter. ICE has 3 components, RICE has four components (same as ICE + Reach), thats why we have different results. Based on both dataframes we can conclude that the most promising hypothesis (3d place for ICe and 1st place for RICE). the most unreliable hypothesis are N5 and N4"
   ]
  },
  {
   "cell_type": "markdown",
   "id": "a586fc0e",
   "metadata": {},
   "source": [
    "# Part 2"
   ]
  },
  {
   "cell_type": "markdown",
   "id": "db2d9ddd",
   "metadata": {},
   "source": [
    "## A/B Test Analysis<a class=\"tocSkip\">"
   ]
  },
  {
   "cell_type": "markdown",
   "id": "b5e213e6",
   "metadata": {},
   "source": [
    "### Data preprocessing<a class=\"tocSkip\">"
   ]
  },
  {
   "cell_type": "code",
   "execution_count": 11,
   "id": "40cfb59f",
   "metadata": {},
   "outputs": [],
   "source": [
    "try:\n",
    "    orders = pd.read_csv('C:/Users/Anait Akopyan/Desktop/Yclass/Module2/orders_us.csv')\n",
    "    visits = pd.read_csv('C:/Users/Anait Akopyan/Desktop/Yclass/Module2/visits_us.csv')\n",
    "except:\n",
    "    orders = pd.read_csv('/datasets/orders_us.csv')\n",
    "    visits = pd.read_csv('/datasets/visits_us.csv')\n"
   ]
  },
  {
   "cell_type": "code",
   "execution_count": 12,
   "id": "a2548f29",
   "metadata": {},
   "outputs": [
    {
     "data": {
      "text/html": [
       "<div>\n",
       "<style scoped>\n",
       "    .dataframe tbody tr th:only-of-type {\n",
       "        vertical-align: middle;\n",
       "    }\n",
       "\n",
       "    .dataframe tbody tr th {\n",
       "        vertical-align: top;\n",
       "    }\n",
       "\n",
       "    .dataframe thead th {\n",
       "        text-align: right;\n",
       "    }\n",
       "</style>\n",
       "<table border=\"1\" class=\"dataframe\">\n",
       "  <thead>\n",
       "    <tr style=\"text-align: right;\">\n",
       "      <th></th>\n",
       "      <th>date</th>\n",
       "      <th>group</th>\n",
       "      <th>visits</th>\n",
       "    </tr>\n",
       "  </thead>\n",
       "  <tbody>\n",
       "    <tr>\n",
       "      <th>0</th>\n",
       "      <td>2019-08-01</td>\n",
       "      <td>A</td>\n",
       "      <td>719</td>\n",
       "    </tr>\n",
       "    <tr>\n",
       "      <th>1</th>\n",
       "      <td>2019-08-02</td>\n",
       "      <td>A</td>\n",
       "      <td>619</td>\n",
       "    </tr>\n",
       "    <tr>\n",
       "      <th>2</th>\n",
       "      <td>2019-08-03</td>\n",
       "      <td>A</td>\n",
       "      <td>507</td>\n",
       "    </tr>\n",
       "  </tbody>\n",
       "</table>\n",
       "</div>"
      ],
      "text/plain": [
       "         date group  visits\n",
       "0  2019-08-01  A     719   \n",
       "1  2019-08-02  A     619   \n",
       "2  2019-08-03  A     507   "
      ]
     },
     "execution_count": 12,
     "metadata": {},
     "output_type": "execute_result"
    }
   ],
   "source": [
    "visits.head(3)"
   ]
  },
  {
   "cell_type": "code",
   "execution_count": 13,
   "id": "b23eef40",
   "metadata": {},
   "outputs": [
    {
     "name": "stdout",
     "output_type": "stream",
     "text": [
      "<class 'pandas.core.frame.DataFrame'>\n",
      "RangeIndex: 62 entries, 0 to 61\n",
      "Data columns (total 3 columns):\n",
      " #   Column  Non-Null Count  Dtype \n",
      "---  ------  --------------  ----- \n",
      " 0   date    62 non-null     object\n",
      " 1   group   62 non-null     object\n",
      " 2   visits  62 non-null     int64 \n",
      "dtypes: int64(1), object(2)\n",
      "memory usage: 1.6+ KB\n"
     ]
    }
   ],
   "source": [
    "visits.info()"
   ]
  },
  {
   "cell_type": "code",
   "execution_count": 14,
   "id": "01acef44",
   "metadata": {},
   "outputs": [
    {
     "data": {
      "text/html": [
       "<div>\n",
       "<style scoped>\n",
       "    .dataframe tbody tr th:only-of-type {\n",
       "        vertical-align: middle;\n",
       "    }\n",
       "\n",
       "    .dataframe tbody tr th {\n",
       "        vertical-align: top;\n",
       "    }\n",
       "\n",
       "    .dataframe thead th {\n",
       "        text-align: right;\n",
       "    }\n",
       "</style>\n",
       "<table border=\"1\" class=\"dataframe\">\n",
       "  <thead>\n",
       "    <tr style=\"text-align: right;\">\n",
       "      <th></th>\n",
       "      <th>transactionId</th>\n",
       "      <th>visitorId</th>\n",
       "      <th>date</th>\n",
       "      <th>revenue</th>\n",
       "      <th>group</th>\n",
       "    </tr>\n",
       "  </thead>\n",
       "  <tbody>\n",
       "    <tr>\n",
       "      <th>0</th>\n",
       "      <td>3667963787</td>\n",
       "      <td>3312258926</td>\n",
       "      <td>2019-08-15</td>\n",
       "      <td>30.4</td>\n",
       "      <td>B</td>\n",
       "    </tr>\n",
       "    <tr>\n",
       "      <th>1</th>\n",
       "      <td>2804400009</td>\n",
       "      <td>3642806036</td>\n",
       "      <td>2019-08-15</td>\n",
       "      <td>15.2</td>\n",
       "      <td>B</td>\n",
       "    </tr>\n",
       "    <tr>\n",
       "      <th>2</th>\n",
       "      <td>2961555356</td>\n",
       "      <td>4069496402</td>\n",
       "      <td>2019-08-15</td>\n",
       "      <td>10.2</td>\n",
       "      <td>A</td>\n",
       "    </tr>\n",
       "  </tbody>\n",
       "</table>\n",
       "</div>"
      ],
      "text/plain": [
       "   transactionId   visitorId        date  revenue group\n",
       "0  3667963787     3312258926  2019-08-15  30.4     B   \n",
       "1  2804400009     3642806036  2019-08-15  15.2     B   \n",
       "2  2961555356     4069496402  2019-08-15  10.2     A   "
      ]
     },
     "execution_count": 14,
     "metadata": {},
     "output_type": "execute_result"
    }
   ],
   "source": [
    "orders.head(3)"
   ]
  },
  {
   "cell_type": "code",
   "execution_count": 15,
   "id": "ed6ca1e1",
   "metadata": {},
   "outputs": [
    {
     "name": "stdout",
     "output_type": "stream",
     "text": [
      "<class 'pandas.core.frame.DataFrame'>\n",
      "RangeIndex: 1197 entries, 0 to 1196\n",
      "Data columns (total 5 columns):\n",
      " #   Column         Non-Null Count  Dtype  \n",
      "---  ------         --------------  -----  \n",
      " 0   transactionId  1197 non-null   int64  \n",
      " 1   visitorId      1197 non-null   int64  \n",
      " 2   date           1197 non-null   object \n",
      " 3   revenue        1197 non-null   float64\n",
      " 4   group          1197 non-null   object \n",
      "dtypes: float64(1), int64(2), object(2)\n",
      "memory usage: 46.9+ KB\n"
     ]
    }
   ],
   "source": [
    "orders.info()"
   ]
  },
  {
   "cell_type": "markdown",
   "id": "70a99c23",
   "metadata": {},
   "source": [
    "in order to optimise memory usage lets convert orders['date'] and visits['date'] columns to datetime"
   ]
  },
  {
   "cell_type": "code",
   "execution_count": 16,
   "id": "3d431732",
   "metadata": {},
   "outputs": [],
   "source": [
    "orders['date'] = pd.to_datetime(orders['date'], format='%Y.%m.%d')\n",
    "visits['date'] = pd.to_datetime(visits['date'], format='%Y.%m.%d')"
   ]
  },
  {
   "cell_type": "markdown",
   "id": "976a0b4e",
   "metadata": {},
   "source": [
    "Checking missing values and duplicates:"
   ]
  },
  {
   "cell_type": "code",
   "execution_count": 17,
   "id": "16cb2c77",
   "metadata": {},
   "outputs": [
    {
     "name": "stdout",
     "output_type": "stream",
     "text": [
      "False\n",
      "False\n"
     ]
    }
   ],
   "source": [
    "print(visits.duplicated().any())\n",
    "print(orders.duplicated().any())"
   ]
  },
  {
   "cell_type": "markdown",
   "id": "28e539d2",
   "metadata": {},
   "source": [
    "no duplicates in df"
   ]
  },
  {
   "cell_type": "code",
   "execution_count": 18,
   "id": "efae6111",
   "metadata": {},
   "outputs": [
    {
     "name": "stdout",
     "output_type": "stream",
     "text": [
      "date      0\n",
      "group     0\n",
      "visits    0\n",
      "dtype: int64\n",
      "transactionId    0\n",
      "visitorId        0\n",
      "date             0\n",
      "revenue          0\n",
      "group            0\n",
      "dtype: int64\n"
     ]
    }
   ],
   "source": [
    "print(visits.isna().sum())\n",
    "print(orders.isna().sum())"
   ]
  },
  {
   "cell_type": "markdown",
   "id": "5427ff1b",
   "metadata": {},
   "source": [
    "no missing values in df"
   ]
  },
  {
   "cell_type": "markdown",
   "id": "2e72f1f6",
   "metadata": {},
   "source": [
    "Now lets check if there are any users  which belong to both A and B groups.\n",
    "In order to do that for orders df we'll check if all transactionId are unique ones:"
   ]
  },
  {
   "cell_type": "code",
   "execution_count": 19,
   "id": "98610c94",
   "metadata": {},
   "outputs": [
    {
     "data": {
      "text/plain": [
       "False"
      ]
     },
     "execution_count": 19,
     "metadata": {},
     "output_type": "execute_result"
    }
   ],
   "source": [
    "orders['transactionId'].duplicated().any()"
   ]
  },
  {
   "cell_type": "markdown",
   "id": "245c9d96",
   "metadata": {},
   "source": [
    "no users belonging to both A and B groups"
   ]
  },
  {
   "cell_type": "markdown",
   "id": "8f4eb920",
   "metadata": {},
   "source": [
    "### 1.Graph cumulative revenue by group. Make conclusions and conjectures<a class=\"tocSkip\">"
   ]
  },
  {
   "cell_type": "markdown",
   "id": "958a7700",
   "metadata": {},
   "source": [
    "building an array with unique paired date-group values on orders"
   ]
  },
  {
   "cell_type": "code",
   "execution_count": 20,
   "id": "57d23e77",
   "metadata": {},
   "outputs": [
    {
     "data": {
      "text/html": [
       "<div>\n",
       "<style scoped>\n",
       "    .dataframe tbody tr th:only-of-type {\n",
       "        vertical-align: middle;\n",
       "    }\n",
       "\n",
       "    .dataframe tbody tr th {\n",
       "        vertical-align: top;\n",
       "    }\n",
       "\n",
       "    .dataframe thead th {\n",
       "        text-align: right;\n",
       "    }\n",
       "</style>\n",
       "<table border=\"1\" class=\"dataframe\">\n",
       "  <thead>\n",
       "    <tr style=\"text-align: right;\">\n",
       "      <th></th>\n",
       "      <th>date</th>\n",
       "      <th>group</th>\n",
       "    </tr>\n",
       "  </thead>\n",
       "  <tbody>\n",
       "    <tr>\n",
       "      <th>0</th>\n",
       "      <td>2019-08-15</td>\n",
       "      <td>B</td>\n",
       "    </tr>\n",
       "    <tr>\n",
       "      <th>2</th>\n",
       "      <td>2019-08-15</td>\n",
       "      <td>A</td>\n",
       "    </tr>\n",
       "    <tr>\n",
       "      <th>45</th>\n",
       "      <td>2019-08-16</td>\n",
       "      <td>A</td>\n",
       "    </tr>\n",
       "    <tr>\n",
       "      <th>47</th>\n",
       "      <td>2019-08-16</td>\n",
       "      <td>B</td>\n",
       "    </tr>\n",
       "    <tr>\n",
       "      <th>55</th>\n",
       "      <td>2019-08-01</td>\n",
       "      <td>A</td>\n",
       "    </tr>\n",
       "  </tbody>\n",
       "</table>\n",
       "</div>"
      ],
      "text/plain": [
       "         date group\n",
       "0  2019-08-15  B   \n",
       "2  2019-08-15  A   \n",
       "45 2019-08-16  A   \n",
       "47 2019-08-16  B   \n",
       "55 2019-08-01  A   "
      ]
     },
     "execution_count": 20,
     "metadata": {},
     "output_type": "execute_result"
    }
   ],
   "source": [
    "datesGroups = orders[['date','group']].drop_duplicates()\n",
    "datesGroups.head()"
   ]
  },
  {
   "cell_type": "markdown",
   "id": "5d589246",
   "metadata": {},
   "source": [
    "getting aggregated cumulative daily data on orders "
   ]
  },
  {
   "cell_type": "code",
   "execution_count": 21,
   "id": "d275fb9a",
   "metadata": {},
   "outputs": [
    {
     "data": {
      "text/html": [
       "<div>\n",
       "<style scoped>\n",
       "    .dataframe tbody tr th:only-of-type {\n",
       "        vertical-align: middle;\n",
       "    }\n",
       "\n",
       "    .dataframe tbody tr th {\n",
       "        vertical-align: top;\n",
       "    }\n",
       "\n",
       "    .dataframe thead th {\n",
       "        text-align: right;\n",
       "    }\n",
       "</style>\n",
       "<table border=\"1\" class=\"dataframe\">\n",
       "  <thead>\n",
       "    <tr style=\"text-align: right;\">\n",
       "      <th></th>\n",
       "      <th>date</th>\n",
       "      <th>group</th>\n",
       "      <th>transactionId</th>\n",
       "      <th>visitorId</th>\n",
       "      <th>revenue</th>\n",
       "    </tr>\n",
       "  </thead>\n",
       "  <tbody>\n",
       "    <tr>\n",
       "      <th>55</th>\n",
       "      <td>2019-08-01</td>\n",
       "      <td>A</td>\n",
       "      <td>24</td>\n",
       "      <td>20</td>\n",
       "      <td>2356.8</td>\n",
       "    </tr>\n",
       "    <tr>\n",
       "      <th>66</th>\n",
       "      <td>2019-08-01</td>\n",
       "      <td>B</td>\n",
       "      <td>21</td>\n",
       "      <td>20</td>\n",
       "      <td>1620.0</td>\n",
       "    </tr>\n",
       "    <tr>\n",
       "      <th>175</th>\n",
       "      <td>2019-08-02</td>\n",
       "      <td>A</td>\n",
       "      <td>44</td>\n",
       "      <td>38</td>\n",
       "      <td>3860.3</td>\n",
       "    </tr>\n",
       "    <tr>\n",
       "      <th>173</th>\n",
       "      <td>2019-08-02</td>\n",
       "      <td>B</td>\n",
       "      <td>45</td>\n",
       "      <td>43</td>\n",
       "      <td>4243.8</td>\n",
       "    </tr>\n",
       "    <tr>\n",
       "      <th>291</th>\n",
       "      <td>2019-08-03</td>\n",
       "      <td>A</td>\n",
       "      <td>68</td>\n",
       "      <td>62</td>\n",
       "      <td>5675.5</td>\n",
       "    </tr>\n",
       "  </tbody>\n",
       "</table>\n",
       "</div>"
      ],
      "text/plain": [
       "          date group  transactionId  visitorId  revenue\n",
       "55  2019-08-01  A     24             20         2356.8 \n",
       "66  2019-08-01  B     21             20         1620.0 \n",
       "175 2019-08-02  A     44             38         3860.3 \n",
       "173 2019-08-02  B     45             43         4243.8 \n",
       "291 2019-08-03  A     68             62         5675.5 "
      ]
     },
     "execution_count": 21,
     "metadata": {},
     "output_type": "execute_result"
    }
   ],
   "source": [
    "ordersAggregated = datesGroups.apply(lambda x: orders[np.logical_and(orders['date'] <= x['date'], orders['group'] == x['group'])].agg({'date' : 'max', 'group' : 'max', 'transactionId' : pd.Series.nunique, 'visitorId' : pd.Series.nunique, 'revenue' : 'sum'}), axis=1).sort_values(by=['date','group'])\n",
    "ordersAggregated.head()"
   ]
  },
  {
   "cell_type": "markdown",
   "id": "f87cc5dc",
   "metadata": {},
   "source": [
    "getting aggregated cumulative daily data on visitors  "
   ]
  },
  {
   "cell_type": "code",
   "execution_count": 22,
   "id": "5aabba3a",
   "metadata": {},
   "outputs": [
    {
     "data": {
      "text/html": [
       "<div>\n",
       "<style scoped>\n",
       "    .dataframe tbody tr th:only-of-type {\n",
       "        vertical-align: middle;\n",
       "    }\n",
       "\n",
       "    .dataframe tbody tr th {\n",
       "        vertical-align: top;\n",
       "    }\n",
       "\n",
       "    .dataframe thead th {\n",
       "        text-align: right;\n",
       "    }\n",
       "</style>\n",
       "<table border=\"1\" class=\"dataframe\">\n",
       "  <thead>\n",
       "    <tr style=\"text-align: right;\">\n",
       "      <th></th>\n",
       "      <th>date</th>\n",
       "      <th>group</th>\n",
       "      <th>visits</th>\n",
       "    </tr>\n",
       "  </thead>\n",
       "  <tbody>\n",
       "    <tr>\n",
       "      <th>55</th>\n",
       "      <td>2019-08-01</td>\n",
       "      <td>A</td>\n",
       "      <td>719</td>\n",
       "    </tr>\n",
       "    <tr>\n",
       "      <th>66</th>\n",
       "      <td>2019-08-01</td>\n",
       "      <td>B</td>\n",
       "      <td>713</td>\n",
       "    </tr>\n",
       "    <tr>\n",
       "      <th>175</th>\n",
       "      <td>2019-08-02</td>\n",
       "      <td>A</td>\n",
       "      <td>1338</td>\n",
       "    </tr>\n",
       "    <tr>\n",
       "      <th>173</th>\n",
       "      <td>2019-08-02</td>\n",
       "      <td>B</td>\n",
       "      <td>1294</td>\n",
       "    </tr>\n",
       "    <tr>\n",
       "      <th>291</th>\n",
       "      <td>2019-08-03</td>\n",
       "      <td>A</td>\n",
       "      <td>1845</td>\n",
       "    </tr>\n",
       "  </tbody>\n",
       "</table>\n",
       "</div>"
      ],
      "text/plain": [
       "          date group  visits\n",
       "55  2019-08-01  A     719   \n",
       "66  2019-08-01  B     713   \n",
       "175 2019-08-02  A     1338  \n",
       "173 2019-08-02  B     1294  \n",
       "291 2019-08-03  A     1845  "
      ]
     },
     "execution_count": 22,
     "metadata": {},
     "output_type": "execute_result"
    }
   ],
   "source": [
    "visitsAggregated = datesGroups.apply(lambda x: visits[np.logical_and(visits['date'] <= x['date'], visits['group'] == x['group'])].agg({'date' : 'max', 'group' : 'max', 'visits' : 'sum'}), axis=1).sort_values(by=['date','group'])\n",
    "visitsAggregated.head()"
   ]
  },
  {
   "cell_type": "markdown",
   "id": "111e8886",
   "metadata": {},
   "source": [
    "merging the two tables into one and giving its columns descriptive names"
   ]
  },
  {
   "cell_type": "code",
   "execution_count": 23,
   "id": "5e829878",
   "metadata": {},
   "outputs": [
    {
     "name": "stdout",
     "output_type": "stream",
     "text": [
      "        date group  orders  buyers  revenue  visitors\n",
      "0 2019-08-01  A     24      20      2356.8   719     \n",
      "1 2019-08-01  B     21      20      1620.0   713     \n",
      "2 2019-08-02  A     44      38      3860.3   1338    \n",
      "3 2019-08-02  B     45      43      4243.8   1294    \n",
      "4 2019-08-03  A     68      62      5675.5   1845    \n"
     ]
    }
   ],
   "source": [
    "cumulativeData = ordersAggregated.merge(visitsAggregated, left_on=['date', 'group'], right_on=['date', 'group'])\n",
    "cumulativeData.columns = ['date', 'group', 'orders', 'buyers', 'revenue', 'visitors']\n",
    "\n",
    "print(cumulativeData.head(5)) "
   ]
  },
  {
   "cell_type": "markdown",
   "id": "0123e449",
   "metadata": {},
   "source": [
    "DataFrame with cumulative orders and cumulative revenue by day, group A and B"
   ]
  },
  {
   "cell_type": "code",
   "execution_count": 24,
   "id": "519f0616",
   "metadata": {},
   "outputs": [],
   "source": [
    "cumulativeRevenueA = cumulativeData[cumulativeData['group']=='A'][['date','revenue', 'orders']]\n",
    "cumulativeRevenueB = cumulativeData[cumulativeData['group']=='B'][['date','revenue', 'orders']]"
   ]
  },
  {
   "cell_type": "markdown",
   "id": "124455d9",
   "metadata": {},
   "source": [
    "Plotting the group A and B revenue graphs "
   ]
  },
  {
   "cell_type": "code",
   "execution_count": 25,
   "id": "a6004f8b",
   "metadata": {},
   "outputs": [
    {
     "data": {
      "image/png": "[encoded data removed]",
      "text/plain": [
       "<Figure size 1080x432 with 1 Axes>"
      ]
     },
     "metadata": {
      "needs_background": "light"
     },
     "output_type": "display_data"
    }
   ],
   "source": [
    "plt.figure(figsize=(15, 6))\n",
    "plt.title('Cumulative revenue graphs by day and A/B test group', fontsize=15,)\n",
    "plt.grid()\n",
    "plt.xticks(rotation=45)\n",
    "plt.ylabel('Revenue', fontsize=15)\n",
    "plt.plot(cumulativeRevenueA['date'], cumulativeRevenueA['revenue'], label='A')\n",
    "plt.plot(cumulativeRevenueB['date'], cumulativeRevenueB['revenue'], label='B')\n",
    "plt.legend();"
   ]
  },
  {
   "cell_type": "markdown",
   "id": "01d2b33e",
   "metadata": {},
   "source": [
    "### Conclusion<a class=\"tocSkip\">"
   ]
  },
  {
   "cell_type": "markdown",
   "id": "41ec48a1",
   "metadata": {},
   "source": [
    "Revenue is rising steadily throughout the whole test which is a good sign.\n",
    "Also we can see that group B has spike in revenue 2019-08-19. This may imply either a surge in the number of orders or the presence of very expensive orders in the group B starting from that day"
   ]
  },
  {
   "cell_type": "markdown",
   "id": "b0effddb",
   "metadata": {},
   "source": [
    "### 2 Graph cumulative average order size by group. Make conclusions and conjectures.<a class=\"tocSkip\">"
   ]
  },
  {
   "cell_type": "markdown",
   "id": "53f3941f",
   "metadata": {},
   "source": [
    "Let's plot average purchase size by group."
   ]
  },
  {
   "cell_type": "code",
   "execution_count": 26,
   "id": "89d6cf7f",
   "metadata": {},
   "outputs": [
    {
     "data": {
      "image/png": "[encoded data removed]",
      "text/plain": [
       "<Figure size 1080x432 with 1 Axes>"
      ]
     },
     "metadata": {
      "needs_background": "light"
     },
     "output_type": "display_data"
    }
   ],
   "source": [
    "plt.figure(figsize=(15, 6))\n",
    "plt.title('Cumulative average order size by day and A/B test group', fontsize=15,)\n",
    "plt.grid()\n",
    "plt.xticks(rotation=45)\n",
    "plt.ylabel('average order size', fontsize=15)\n",
    "\n",
    "plt.plot(cumulativeRevenueA['date'], cumulativeRevenueA['revenue']/cumulativeRevenueA['orders'], label='A')\n",
    "plt.plot(cumulativeRevenueB['date'], cumulativeRevenueB['revenue']/cumulativeRevenueB['orders'], label='B')\n",
    "plt.legend() ;"
   ]
  },
  {
   "cell_type": "markdown",
   "id": "cc0ad5c3",
   "metadata": {},
   "source": [
    "### Conclusion<a class=\"tocSkip\">\n",
    "We can see that during the whole period the average order size are changing (sometimes growing but sometimes falling down) for both groups. It stabilizes for group A starting from 2019-08-13. and keeps on falling for group B. \n",
    "The surge in group B on 19th of August tells us that most probably we were right in the previous section saying that we had a surge in the number of orders for group B that day."
   ]
  },
  {
   "cell_type": "markdown",
   "id": "5bea8856",
   "metadata": {},
   "source": [
    "### 3.Graph the relative difference in cumulative average order size for group B compared with group A. Make conclusions and conjectures.<a class=\"tocSkip\">\n"
   ]
  },
  {
   "cell_type": "markdown",
   "id": "d362ce1f",
   "metadata": {},
   "source": [
    "merging the groups into one DataFrame"
   ]
  },
  {
   "cell_type": "code",
   "execution_count": 27,
   "id": "b11a7666",
   "metadata": {},
   "outputs": [],
   "source": [
    "mergedCumulativeRevenue = cumulativeRevenueA.merge(cumulativeRevenueB, left_on='date', right_on='date', how='left', suffixes=['A', 'B'])"
   ]
  },
  {
   "cell_type": "markdown",
   "id": "0e22b3b5",
   "metadata": {},
   "source": [
    "plotting a relative difference graph for the average order sizes"
   ]
  },
  {
   "cell_type": "code",
   "execution_count": 28,
   "id": "1badfc49",
   "metadata": {},
   "outputs": [
    {
     "data": {
      "image/png": "[encoded data removed]",
      "text/plain": [
       "<Figure size 1080x432 with 1 Axes>"
      ]
     },
     "metadata": {
      "needs_background": "light"
     },
     "output_type": "display_data"
    }
   ],
   "source": [
    "plt.figure(figsize=(15, 6))\n",
    "plt.plot(mergedCumulativeRevenue['date'], (mergedCumulativeRevenue['revenueB']/mergedCumulativeRevenue['ordersB'])/(mergedCumulativeRevenue['revenueA']/mergedCumulativeRevenue['ordersA'])-1)\n",
    "plt.ylabel('Relative difference', fontsize=15)\n",
    "plt.xticks(rotation=45)\n",
    "plt.title('Relative difference in cumulative average order size for group B compared with group A', fontsize=15,)\n",
    "plt.grid();\n",
    "plt.axhline(y=0, color='black', linestyle='--');"
   ]
  },
  {
   "cell_type": "markdown",
   "id": "6c48ca87",
   "metadata": {},
   "source": [
    "At several points the difference between the segments spikes. This means there might be some big orders and outliers. We can see a massive spike on 19th of August. As we've already seen on Cumulative average order size graph, there is a big spike in order size of group B that day. Also we see that the graph is below the axline between 11th August and 15th of August and 1-2d of August. This is the only time when group A had bigger order size than group B according to Cumulative average order size graph. Starting from 19th of August the graph is going down slowly."
   ]
  },
  {
   "cell_type": "markdown",
   "id": "9a0bbd04",
   "metadata": {},
   "source": [
    "### 4.Calculate each group's conversion rate as the ratio of orders to the number of visits for each day. Plot the daily conversion rates of the two groups and describe the difference. Draw conclusions and make conjectures.<a class=\"tocSkip\">"
   ]
  },
  {
   "cell_type": "markdown",
   "id": "863d8eb0",
   "metadata": {},
   "source": [
    "calculating cumulative conversion"
   ]
  },
  {
   "cell_type": "code",
   "execution_count": 29,
   "id": "2ef48334",
   "metadata": {},
   "outputs": [],
   "source": [
    "cumulativeData['conversion'] = cumulativeData['orders']/cumulativeData['visitors']"
   ]
  },
  {
   "cell_type": "markdown",
   "id": "621e9ed4",
   "metadata": {},
   "source": [
    "selecting data on group A and group B"
   ]
  },
  {
   "cell_type": "code",
   "execution_count": 30,
   "id": "3eaf0fec",
   "metadata": {},
   "outputs": [],
   "source": [
    "cumulativeDataA = cumulativeData[cumulativeData['group']=='A']\n",
    "cumulativeDataB = cumulativeData[cumulativeData['group']=='B']"
   ]
  },
  {
   "cell_type": "markdown",
   "id": "7cf88743",
   "metadata": {},
   "source": [
    "plotting the graphs"
   ]
  },
  {
   "cell_type": "code",
   "execution_count": 31,
   "id": "f33ca68c",
   "metadata": {},
   "outputs": [
    {
     "data": {
      "image/png": "[encoded data removed]",
      "text/plain": [
       "<Figure size 1080x432 with 1 Axes>"
      ]
     },
     "metadata": {
      "needs_background": "light"
     },
     "output_type": "display_data"
    }
   ],
   "source": [
    "plt.figure(figsize=(15, 6))\n",
    "plt.ylabel('Conversion rate, %', fontsize=15)\n",
    "plt.xticks(rotation=45)\n",
    "plt.title('Conversion rate for A and B groiups', fontsize=15,)\n",
    "plt.grid()\n",
    "plt.plot(cumulativeDataA['date'], cumulativeDataA['conversion']*100, label='A')\n",
    "plt.plot(cumulativeDataB['date'], cumulativeDataB['conversion']*100, label='B')\n",
    "plt.legend();"
   ]
  },
  {
   "cell_type": "markdown",
   "id": "31c5c76a",
   "metadata": {},
   "source": [
    "We observe a very noticeable spike for both A and B groups on 1-2d of August. If we look at the previous plots at the same date, we see that there were not any raise in revenue nor in size of orders for A and B groups. So it might be some successful ad took place those days or a seasonal reason.\n",
    "The groups were fluctuating around the same value, so we can tell about stabilizing starting from 11th of August"
   ]
  },
  {
   "cell_type": "code",
   "execution_count": 32,
   "id": "83a19a28",
   "metadata": {},
   "outputs": [
    {
     "name": "stderr",
     "output_type": "stream",
     "text": [
      "No handles with labels found to put in legend.\n"
     ]
    },
    {
     "data": {
      "image/png": "[encoded data removed]",
      "text/plain": [
       "<Figure size 1080x432 with 1 Axes>"
      ]
     },
     "metadata": {
      "needs_background": "light"
     },
     "output_type": "display_data"
    }
   ],
   "source": [
    "plt.figure(figsize=(15, 6))\n",
    "mergedCumulativeConversions = cumulativeDataA[['date','conversion']].merge(cumulativeDataB[['date','conversion']], left_on='date', right_on='date', how='left', suffixes=['A', 'B'])\n",
    "plt.plot(mergedCumulativeConversions['date'], mergedCumulativeConversions['conversionB']/mergedCumulativeConversions['conversionA']-1)\n",
    "plt.legend()\n",
    "plt.xticks(rotation=45)\n",
    "plt.axhline(y=0, color='black', linestyle='--')\n",
    "plt.title('Relative difference in conversion for groups A and B', fontsize=15,)\n",
    "plt.grid();"
   ]
  },
  {
   "cell_type": "markdown",
   "id": "2181110b",
   "metadata": {},
   "source": [
    "group A was lagging behind noticeably, but then it suddenly took the lead. Then its conversion fell again, and now it's growing gradually. The only period when conversion is below the average on the plot is 3-5th of August. In general, the conversion ratio tends to stabilize"
   ]
  },
  {
   "cell_type": "markdown",
   "id": "9f0c4525",
   "metadata": {},
   "source": [
    "### 5.Plot a scatter chart of the number of orders per user. Make conclusions and conjectures.<a class=\"tocSkip\">"
   ]
  },
  {
   "cell_type": "markdown",
   "id": "56aebbc2",
   "metadata": {},
   "source": [
    "first find the number of orders per user and sort it in descending order"
   ]
  },
  {
   "cell_type": "code",
   "execution_count": 33,
   "id": "6dc0fd5f",
   "metadata": {},
   "outputs": [
    {
     "data": {
      "text/html": [
       "<div>\n",
       "<style scoped>\n",
       "    .dataframe tbody tr th:only-of-type {\n",
       "        vertical-align: middle;\n",
       "    }\n",
       "\n",
       "    .dataframe tbody tr th {\n",
       "        vertical-align: top;\n",
       "    }\n",
       "\n",
       "    .dataframe thead th {\n",
       "        text-align: right;\n",
       "    }\n",
       "</style>\n",
       "<table border=\"1\" class=\"dataframe\">\n",
       "  <thead>\n",
       "    <tr style=\"text-align: right;\">\n",
       "      <th></th>\n",
       "      <th>visitorId</th>\n",
       "      <th>transactionId</th>\n",
       "    </tr>\n",
       "  </thead>\n",
       "  <tbody>\n",
       "    <tr>\n",
       "      <th>0</th>\n",
       "      <td>4256040402</td>\n",
       "      <td>11</td>\n",
       "    </tr>\n",
       "    <tr>\n",
       "      <th>1</th>\n",
       "      <td>2458001652</td>\n",
       "      <td>11</td>\n",
       "    </tr>\n",
       "    <tr>\n",
       "      <th>2</th>\n",
       "      <td>2378935119</td>\n",
       "      <td>9</td>\n",
       "    </tr>\n",
       "    <tr>\n",
       "      <th>3</th>\n",
       "      <td>2038680547</td>\n",
       "      <td>8</td>\n",
       "    </tr>\n",
       "    <tr>\n",
       "      <th>4</th>\n",
       "      <td>199603092</td>\n",
       "      <td>5</td>\n",
       "    </tr>\n",
       "  </tbody>\n",
       "</table>\n",
       "</div>"
      ],
      "text/plain": [
       "    visitorId  transactionId\n",
       "0  4256040402  11           \n",
       "1  2458001652  11           \n",
       "2  2378935119  9            \n",
       "3  2038680547  8            \n",
       "4  199603092   5            "
      ]
     },
     "execution_count": 33,
     "metadata": {},
     "output_type": "execute_result"
    }
   ],
   "source": [
    "ordersperId = orders.pivot_table(index=[\"visitorId\"], values = \"transactionId\", aggfunc= \"count\").sort_values('transactionId', ascending=False).reset_index()\n",
    "ordersperId.head()"
   ]
  },
  {
   "cell_type": "code",
   "execution_count": 34,
   "id": "cff0edbe",
   "metadata": {},
   "outputs": [],
   "source": [
    "import matplotlib.pyplot as plt\n",
    "from importlib import reload\n",
    "plt=reload(plt)"
   ]
  },
  {
   "cell_type": "code",
   "execution_count": 35,
   "id": "e2d02a67",
   "metadata": {},
   "outputs": [
    {
     "data": {
      "image/png": "[encoded data removed]",
      "text/plain": [
       "<Figure size 432x288 with 1 Axes>"
      ]
     },
     "metadata": {
      "needs_background": "light"
     },
     "output_type": "display_data"
    }
   ],
   "source": [
    "x_values = pd.Series(range(0, len(ordersperId['transactionId'])))\n",
    "plt.scatter(x_values, ordersperId['transactionId']);\n",
    "plt.grid()\n",
    "plt.xlabel(\"Frequency\")\n",
    "plt.ylabel(\"Number of orders per user\")\n",
    "plt.title('The number of orders per user')\n",
    "plt.show();"
   ]
  },
  {
   "cell_type": "code",
   "execution_count": 36,
   "id": "1e789b7d",
   "metadata": {},
   "outputs": [
    {
     "data": {
      "text/plain": [
       "count    1031.000000\n",
       "mean     1.161009   \n",
       "std      0.724919   \n",
       "min      1.000000   \n",
       "25%      1.000000   \n",
       "50%      1.000000   \n",
       "75%      1.000000   \n",
       "max      11.000000  \n",
       "Name: transactionId, dtype: float64"
      ]
     },
     "execution_count": 36,
     "metadata": {},
     "output_type": "execute_result"
    }
   ],
   "source": [
    "ordersperId['transactionId'].describe()"
   ]
  },
  {
   "cell_type": "markdown",
   "id": "26de9976",
   "metadata": {},
   "source": [
    "The max of orders per user is 11. The majority of users made have 1 order. "
   ]
  },
  {
   "cell_type": "markdown",
   "id": "2594c482",
   "metadata": {},
   "source": [
    "### 6.Calculate the 95th and 99th percentiles for the number of orders per user.Define the point at which a data point becomes an anomaly.<a class=\"tocSkip\">\n"
   ]
  },
  {
   "cell_type": "code",
   "execution_count": 37,
   "id": "22c50cdf",
   "metadata": {},
   "outputs": [
    {
     "name": "stdout",
     "output_type": "stream",
     "text": [
      "[2. 4.]\n"
     ]
    }
   ],
   "source": [
    "print(np.percentile(ordersperId['transactionId'], [95, 99])) "
   ]
  },
  {
   "cell_type": "markdown",
   "id": "0d022cec",
   "metadata": {},
   "source": [
    "No more than 5% of users made 2 orders, and no more than 1% users made more than 4 orders. Thus, it would be reasonable to set 2 orders per user as the lower limit for the number of orders and to filter anomalies on that basis."
   ]
  },
  {
   "cell_type": "markdown",
   "id": "558b0edc",
   "metadata": {},
   "source": [
    "### 7.Plot a scatter chart of order prices. Make conclusions and conjectures.<a class=\"tocSkip\">"
   ]
  },
  {
   "cell_type": "code",
   "execution_count": 38,
   "id": "bc037638",
   "metadata": {},
   "outputs": [],
   "source": [
    "x_val = pd.Series(range(0, len(orders['revenue'])))\n",
    "orders = orders.sort_values(by='revenue',ascending=False)"
   ]
  },
  {
   "cell_type": "code",
   "execution_count": 39,
   "id": "6b8388d1",
   "metadata": {},
   "outputs": [
    {
     "data": {
      "image/png": "[encoded data removed]",
      "text/plain": [
       "<Figure size 1080x432 with 1 Axes>"
      ]
     },
     "metadata": {
      "needs_background": "light"
     },
     "output_type": "display_data"
    }
   ],
   "source": [
    "plt.figure(figsize=(15, 6))\n",
    "plt.scatter(x_val, orders['revenue'])\n",
    "plt.grid()\n",
    "plt.xlabel(\"Frequency\")\n",
    "plt.ylabel(\"Revenue per order\")\n",
    "plt.title('Chart of order prices')\n",
    "plt.show();"
   ]
  },
  {
   "cell_type": "code",
   "execution_count": 40,
   "id": "929bd20a",
   "metadata": {},
   "outputs": [
    {
     "data": {
      "text/plain": [
       "count    1197.000000 \n",
       "mean     131.491646  \n",
       "std      603.004729  \n",
       "min      5.000000    \n",
       "25%      20.800000   \n",
       "50%      50.200000   \n",
       "75%      130.400000  \n",
       "max      19920.400000\n",
       "Name: revenue, dtype: float64"
      ]
     },
     "execution_count": 40,
     "metadata": {},
     "output_type": "execute_result"
    }
   ],
   "source": [
    "orders['revenue'].describe()"
   ]
  },
  {
   "cell_type": "markdown",
   "id": "0a0c4603",
   "metadata": {},
   "source": [
    "Based on the graph, there are several big orders. We can set the limit for abnormal orders: around 20000 and around 3000. However, generally, the most of the prices are less than 130."
   ]
  },
  {
   "cell_type": "markdown",
   "id": "2f994d5e",
   "metadata": {},
   "source": [
    "### 8.Calculate the 95th and 99th percentiles of order prices. Define the point at which a data point becomes an anomaly.<a class=\"tocSkip\">"
   ]
  },
  {
   "cell_type": "code",
   "execution_count": 41,
   "id": "68fad12f",
   "metadata": {},
   "outputs": [
    {
     "name": "stdout",
     "output_type": "stream",
     "text": [
      "[331.9   435.54  900.904]\n"
     ]
    }
   ],
   "source": [
    "print(np.percentile(orders['revenue'], [93, 95, 99])) "
   ]
  },
  {
   "cell_type": "markdown",
   "id": "5b82a0de",
   "metadata": {},
   "source": [
    "No more than 5% of orders cost more than 435.5, and no more than 1% cost more than 900.9. Thus, it would be possible to set an order price 350 as the lower limit to filter anomalies"
   ]
  },
  {
   "cell_type": "markdown",
   "id": "488f0242",
   "metadata": {},
   "source": [
    "### 9.Find the statistical significance of the difference in conversion between the groups using the raw data. Make conclusions and conjectures.<a class=\"tocSkip\">"
   ]
  },
  {
   "cell_type": "markdown",
   "id": "b0367dbc",
   "metadata": {},
   "source": [
    "Lets define null and alternative hypothesis:<br> Null Hypothesis H0: There is no statistically significant difference in conversion between groups A and B row data.<br> Alternative Hypothesis H1: There is a statistically significant difference in conversion between groups A and B row data.\n",
    "For all test below lets set Significance Level p-value equal 0.05"
   ]
  },
  {
   "cell_type": "markdown",
   "id": "17f9c76c",
   "metadata": {},
   "source": [
    " For users with at least one order, we'll indicate the number of orders made:"
   ]
  },
  {
   "cell_type": "code",
   "execution_count": 42,
   "id": "1fe5fc86",
   "metadata": {},
   "outputs": [],
   "source": [
    "ordersByUsersA = orders[orders['group']=='A'].groupby('visitorId', as_index=False).agg({'transactionId' : pd.Series.nunique})\n",
    "ordersByUsersB = orders[orders['group']=='B'].groupby('visitorId', as_index=False).agg({'transactionId' : pd.Series.nunique})"
   ]
  },
  {
   "cell_type": "markdown",
   "id": "75e5fabc",
   "metadata": {},
   "source": [
    "the Mann-Whitney test:"
   ]
  },
  {
   "cell_type": "code",
   "execution_count": 43,
   "id": "fc10ff7d",
   "metadata": {},
   "outputs": [
    {
     "name": "stdout",
     "output_type": "stream",
     "text": [
      "0.008\n",
      "Null hypothesis rejected: the difference is statistically significant\n",
      "\n",
      "0.138\n"
     ]
    }
   ],
   "source": [
    "alpha = .05\n",
    "sampleA = pd.concat([ordersByUsersA['transactionId'],pd.Series(0, index=np.arange(visits[visits['group']=='A']['visits'].sum() - len(ordersByUsersA['transactionId'])), name='transactionId')],axis=0)\n",
    "sampleB = pd.concat([ordersByUsersB['transactionId'],pd.Series(0, index=np.arange(visits[visits['group']=='B']['visits'].sum() - len(ordersByUsersB['transactionId'])), name='transactionId')],axis=0)\n",
    "\n",
    "print(\"{0:.3f}\".format(stats.mannwhitneyu(sampleA, sampleB)[1]))\n",
    "if (stats.mannwhitneyu(sampleA, sampleB)[1]) < alpha:\n",
    "    print(\"Null hypothesis rejected: the difference is statistically significant\")\n",
    "else:\n",
    "    print(\"Failed to reject the null hypothesis: we can't make conclusions about the difference\") \n",
    "print(\"\\n\"\"{0:.3f}\".format(sampleB.mean()/sampleA.mean()-1)) "
   ]
  },
  {
   "cell_type": "markdown",
   "id": "6131d0b1",
   "metadata": {},
   "source": [
    "Conclusion: based on the raw data, there is a difference between groups A and B.\n",
    "The first row of the output gives us the p-value, 0.008, which is a less than significance level 0.05. So we can reject the null hypothesis that there's not a statistically significant difference in conversion between the groups. The relative conversion gain for group B compared with A is 13.8%. If we look at Relative difference plot in Question 4 we will see that Group B was the leader in conversion almost from the very beginning of the period. It gained steadily and almost stabilized 15% higher than group A. So relative difference is 10-15%"
   ]
  },
  {
   "cell_type": "markdown",
   "id": "6baf53ca",
   "metadata": {},
   "source": [
    "### 10.Find the statistical significance of the difference in average order size between the groups using the raw data. Make conclusions and conjectures<a class=\"tocSkip\">"
   ]
  },
  {
   "cell_type": "markdown",
   "id": "36aeaf24",
   "metadata": {},
   "source": [
    "Null Hypothesis H0: There is no statistically significant difference in average order size between groups A and B row data.<br> Alternative Hypothesis H1: There is a statistically significant difference in average order size between groups A and B row data."
   ]
  },
  {
   "cell_type": "code",
   "execution_count": 44,
   "id": "f7a05931",
   "metadata": {},
   "outputs": [
    {
     "name": "stdout",
     "output_type": "stream",
     "text": [
      "0.346\n",
      "Failed to reject the null hypothesis: we can't make conclusions about the difference\n",
      "\n",
      "0.252\n"
     ]
    }
   ],
   "source": [
    "print('{0:.3f}'.format(stats.mannwhitneyu(orders[orders['group']=='A']['revenue'], orders[orders['group']=='B']['revenue'])[1]))\n",
    "if ((stats.mannwhitneyu(orders[orders['group']=='A']['revenue'], orders[orders['group']=='B']['revenue'])[1]) < alpha):\n",
    "    print(\"Null hypothesis rejected: the difference is statistically significant\")\n",
    "else:\n",
    "    print(\"Failed to reject the null hypothesis: we can't make conclusions about the difference\") \n",
    "\n",
    "print(\"\\n\"'{0:.3f}'.format(orders[orders['group']=='B']['revenue'].mean()/orders[orders['group']=='A']['revenue'].mean()-1)) \n"
   ]
  },
  {
   "cell_type": "markdown",
   "id": "b7ac1091",
   "metadata": {},
   "source": [
    "The p-value is considerably higher than 0.05, so there's no reason to reject the null hypothesis. Means, There are no statistically significant differences between the groups average order size. Nonetheless, the average order size for group B is much bigger than it is for group A (25%) so we can observe it in question 3 on the plot. We cant draw any definite conclusion from that graph about stabilizing the group B."
   ]
  },
  {
   "cell_type": "markdown",
   "id": "1308ab7e",
   "metadata": {},
   "source": [
    "### 11.Find the statistical significance of the difference in conversion between the groups using the filtered data. Make conclusions and conjectures.<a class=\"tocSkip\">"
   ]
  },
  {
   "cell_type": "markdown",
   "id": "f40499a1",
   "metadata": {},
   "source": [
    "Null Hypothesis H0: There is no statistically significant difference in conversion between groups A and B filtered data.<br>\n",
    "Alternative Hypothesis H1: There is a statistically significant difference in conversion between groups A and B filtered data."
   ]
  },
  {
   "cell_type": "markdown",
   "id": "1d296e5d",
   "metadata": {},
   "source": [
    "first define the filtered data for groups A and B"
   ]
  },
  {
   "cell_type": "code",
   "execution_count": 45,
   "id": "049c17a9",
   "metadata": {},
   "outputs": [],
   "source": [
    "ordersByUsersA_filt = ordersByUsersA.loc[ordersByUsersA['transactionId'] <2]\n",
    "ordersByUsersB_filt = ordersByUsersB.loc[ordersByUsersB['transactionId'] <2]"
   ]
  },
  {
   "cell_type": "markdown",
   "id": "a375bfc2",
   "metadata": {},
   "source": [
    "the Mann-Whitney test:"
   ]
  },
  {
   "cell_type": "code",
   "execution_count": 46,
   "id": "b0b81217",
   "metadata": {},
   "outputs": [
    {
     "name": "stdout",
     "output_type": "stream",
     "text": [
      "0.009\n",
      "Null hypothesis rejected: the difference is statistically significant\n",
      "\n",
      "0.156\n"
     ]
    }
   ],
   "source": [
    "alpha = .05\n",
    "sampleA_filt = pd.concat([ordersByUsersA_filt['transactionId'],pd.Series(0, index=np.arange(visits[visits['group']=='A']['visits'].sum() - len(ordersByUsersA_filt['transactionId'])), name='transactionId')],axis=0)\n",
    "sampleB_filt = pd.concat([ordersByUsersB_filt['transactionId'],pd.Series(0, index=np.arange(visits[visits['group']=='B']['visits'].sum() - len(ordersByUsersB_filt['transactionId'])), name='transactionId')],axis=0)\n",
    "\n",
    "print(\"{0:.3f}\".format(stats.mannwhitneyu(sampleA_filt, sampleB_filt)[1]))\n",
    "if ((stats.mannwhitneyu(sampleA_filt, sampleB_filt)[1]) < alpha):\n",
    "    print(\"Null hypothesis rejected: the difference is statistically significant\")\n",
    "else:\n",
    "    print(\"Failed to reject the null hypothesis: we can't make conclusions about the difference\") \n",
    "print(\"\\n\"\"{0:.3f}\".format(sampleB_filt.mean()/sampleA_filt.mean()-1))\n"
   ]
  },
  {
   "cell_type": "markdown",
   "id": "76fcafae",
   "metadata": {},
   "source": [
    "The results for conversion didn't change much compare to row data (p-value was 0.008 and the difference between the segments was 0.138)"
   ]
  },
  {
   "cell_type": "markdown",
   "id": "5899ba56",
   "metadata": {},
   "source": [
    "### 12.Find the statistical significance of the difference in average order size between the groups using the filtered data. Make conclusions and conjectures.<a class=\"tocSkip\">"
   ]
  },
  {
   "cell_type": "markdown",
   "id": "2b08f996",
   "metadata": {},
   "source": [
    "Null Hypothesis H0: There is no statistically significant difference in average order size between groups A and B filtered data.<br>\n",
    "Alternative Hypothesis H1: There is a statistically significant difference in average order size between groups A and B filtered data."
   ]
  },
  {
   "cell_type": "code",
   "execution_count": 47,
   "id": "1d174fda",
   "metadata": {},
   "outputs": [],
   "source": [
    "orders_f = orders.loc[orders['revenue'] < 350]"
   ]
  },
  {
   "cell_type": "code",
   "execution_count": 48,
   "id": "c43352c4",
   "metadata": {},
   "outputs": [
    {
     "name": "stdout",
     "output_type": "stream",
     "text": [
      "0.415\n",
      "Failed to reject the null hypothesis: we can't make conclusions about the difference\n",
      "\n",
      "-0.026\n"
     ]
    }
   ],
   "source": [
    "print('{0:.3f}'.format(stats.mannwhitneyu(orders_f[orders_f['group']=='A']['revenue'], orders_f[orders_f['group']=='B']['revenue'])[1]))\n",
    "if (stats.mannwhitneyu(orders_f[orders_f['group']=='A']['revenue'], orders_f[orders_f['group']=='B']['revenue'])[1]) < alpha:\n",
    "    print(\"Null hypothesis rejected: the difference is statistically significant\")\n",
    "else:\n",
    "    print(\"Failed to reject the null hypothesis: we can't make conclusions about the difference\") \n",
    "\n",
    "print(\"\\n\"'{0:.3f}'.format(orders_f[orders_f['group']=='B']['revenue'].mean()/orders_f[orders_f['group']=='A']['revenue'].mean()-1)) "
   ]
  },
  {
   "cell_type": "markdown",
   "id": "0a229ce6",
   "metadata": {},
   "source": [
    "Again the p-value is is higher than significance level, so we can conclude that average order size doesnt differ between the groups. Now the difference between the segments is only 4% (vs 25%). It shows that anomalies does affect the A/B test results"
   ]
  },
  {
   "cell_type": "markdown",
   "id": "c8380666",
   "metadata": {},
   "source": [
    "### 13. Make a decision based on the test results. The possible decisions are: -Stop the test, consider one of the groups the leader.  - Stop the test, conclude that there is no difference between the groups.- Continue the test.<a class=\"tocSkip\">"
   ]
  },
  {
   "cell_type": "markdown",
   "id": "6132d023",
   "metadata": {},
   "source": [
    "Conclusions from the test:\n",
    "- There's a statistically significant difference in conversion between the groups, according to both the raw and the filtered data.\n",
    "- Both the raw data and the filtered data didn't show a statistically significant difference between the groups in terms of average purchase size\n",
    "- In terms of relative difference group B was stabilized about 15% higher than group A.\n",
    "- Based on these facts we can stop the test considering group B as the leader that can boost the revenue"
   ]
  },
  {
   "cell_type": "code",
   "execution_count": null,
   "id": "786db353",
   "metadata": {},
   "outputs": [],
   "source": []
  }
 ],
 "metadata": {
  "ExecuteTimeLog": [
   {
    "duration": 1490,
    "start_time": "2021-09-07T21:40:25.895Z"
   },
   {
    "duration": 7,
    "start_time": "2021-09-07T21:40:27.388Z"
   },
   {
    "duration": 29,
    "start_time": "2021-09-07T21:40:27.398Z"
   },
   {
    "duration": 5,
    "start_time": "2021-09-07T21:40:27.883Z"
   },
   {
    "duration": 4,
    "start_time": "2021-09-07T21:40:29.929Z"
   },
   {
    "duration": 11,
    "start_time": "2021-09-07T21:40:31.506Z"
   },
   {
    "duration": 14,
    "start_time": "2021-09-07T21:40:32.278Z"
   },
   {
    "duration": 20,
    "start_time": "2021-09-07T21:40:34.767Z"
   },
   {
    "duration": 20,
    "start_time": "2021-09-07T21:40:36.240Z"
   },
   {
    "duration": 233,
    "start_time": "2021-09-07T21:40:39.279Z"
   },
   {
    "duration": 10,
    "start_time": "2021-09-07T21:40:39.669Z"
   },
   {
    "duration": 9,
    "start_time": "2021-09-07T21:40:40.243Z"
   },
   {
    "duration": 12,
    "start_time": "2021-09-07T21:40:40.747Z"
   },
   {
    "duration": 10,
    "start_time": "2021-09-07T21:40:41.157Z"
   },
   {
    "duration": 9,
    "start_time": "2021-09-07T21:40:42.162Z"
   },
   {
    "duration": 15,
    "start_time": "2021-09-07T21:40:43.444Z"
   },
   {
    "duration": 350,
    "start_time": "2021-09-07T21:40:44.316Z"
   },
   {
    "duration": 280,
    "start_time": "2021-09-07T21:40:45.617Z"
   },
   {
    "duration": 16,
    "start_time": "2021-09-07T21:40:46.762Z"
   },
   {
    "duration": 12,
    "start_time": "2021-09-07T21:40:47.570Z"
   },
   {
    "duration": 454,
    "start_time": "2021-09-07T21:40:48.553Z"
   },
   {
    "duration": 449,
    "start_time": "2021-09-07T21:42:01.177Z"
   },
   {
    "duration": 10,
    "start_time": "2021-09-07T21:42:16.689Z"
   },
   {
    "duration": 607,
    "start_time": "2021-09-07T21:42:19.953Z"
   },
   {
    "duration": 9,
    "start_time": "2021-09-07T21:42:28.871Z"
   },
   {
    "duration": 8,
    "start_time": "2021-09-07T21:42:31.128Z"
   },
   {
    "duration": 472,
    "start_time": "2021-09-07T21:42:32.953Z"
   },
   {
    "duration": 568,
    "start_time": "2021-09-07T21:42:37.113Z"
   },
   {
    "duration": 20,
    "start_time": "2021-09-07T21:42:53.481Z"
   },
   {
    "duration": 10,
    "start_time": "2021-09-07T21:42:54.205Z"
   },
   {
    "duration": 401,
    "start_time": "2021-09-07T21:42:54.935Z"
   },
   {
    "duration": 11,
    "start_time": "2021-09-07T21:42:56.310Z"
   },
   {
    "duration": 6,
    "start_time": "2021-09-07T21:43:04.005Z"
   },
   {
    "duration": 7,
    "start_time": "2021-09-07T21:43:10.443Z"
   },
   {
    "duration": 511,
    "start_time": "2021-09-07T21:43:11.064Z"
   },
   {
    "duration": 12,
    "start_time": "2021-09-07T21:43:12.447Z"
   },
   {
    "duration": 6,
    "start_time": "2021-09-07T21:43:19.821Z"
   },
   {
    "duration": 225,
    "start_time": "2021-09-07T21:43:26.923Z"
   },
   {
    "duration": 20,
    "start_time": "2021-09-07T21:43:28.621Z"
   },
   {
    "duration": 16,
    "start_time": "2021-09-07T21:43:35.731Z"
   },
   {
    "duration": 7,
    "start_time": "2021-09-07T21:43:46.393Z"
   },
   {
    "duration": 18,
    "start_time": "2021-09-07T21:43:47.479Z"
   },
   {
    "duration": 9,
    "start_time": "2021-09-07T21:43:53.372Z"
   },
   {
    "duration": 15,
    "start_time": "2021-09-07T21:43:53.915Z"
   },
   {
    "duration": 1456,
    "start_time": "2021-09-08T11:08:19.695Z"
   },
   {
    "duration": 6,
    "start_time": "2021-09-08T11:08:21.154Z"
   },
   {
    "duration": 30,
    "start_time": "2021-09-08T11:08:21.163Z"
   },
   {
    "duration": 29,
    "start_time": "2021-09-08T11:08:21.196Z"
   },
   {
    "duration": 5,
    "start_time": "2021-09-08T11:08:21.227Z"
   },
   {
    "duration": 17,
    "start_time": "2021-09-08T11:08:21.234Z"
   },
   {
    "duration": 13,
    "start_time": "2021-09-08T11:08:21.253Z"
   },
   {
    "duration": 19,
    "start_time": "2021-09-08T11:08:21.269Z"
   },
   {
    "duration": 17,
    "start_time": "2021-09-08T11:08:21.291Z"
   },
   {
    "duration": 243,
    "start_time": "2021-09-08T11:08:21.310Z"
   },
   {
    "duration": 9,
    "start_time": "2021-09-08T11:08:21.555Z"
   },
   {
    "duration": 9,
    "start_time": "2021-09-08T11:08:21.566Z"
   },
   {
    "duration": 15,
    "start_time": "2021-09-08T11:08:21.577Z"
   },
   {
    "duration": 9,
    "start_time": "2021-09-08T11:08:21.594Z"
   },
   {
    "duration": 11,
    "start_time": "2021-09-08T11:08:21.605Z"
   },
   {
    "duration": 21,
    "start_time": "2021-09-08T11:08:21.618Z"
   },
   {
    "duration": 349,
    "start_time": "2021-09-08T11:08:21.641Z"
   },
   {
    "duration": 273,
    "start_time": "2021-09-08T11:08:21.993Z"
   },
   {
    "duration": 25,
    "start_time": "2021-09-08T11:08:22.268Z"
   },
   {
    "duration": 14,
    "start_time": "2021-09-08T11:08:22.296Z"
   },
   {
    "duration": 475,
    "start_time": "2021-09-08T11:08:22.312Z"
   },
   {
    "duration": 429,
    "start_time": "2021-09-08T11:08:22.790Z"
   },
   {
    "duration": 9,
    "start_time": "2021-09-08T11:08:23.224Z"
   },
   {
    "duration": 567,
    "start_time": "2021-09-08T11:08:23.236Z"
   },
   {
    "duration": 5,
    "start_time": "2021-09-08T11:08:23.805Z"
   },
   {
    "duration": 12,
    "start_time": "2021-09-08T11:08:23.812Z"
   },
   {
    "duration": 488,
    "start_time": "2021-09-08T11:08:23.826Z"
   },
   {
    "duration": 562,
    "start_time": "2021-09-08T11:08:24.317Z"
   },
   {
    "duration": 20,
    "start_time": "2021-09-08T11:08:24.884Z"
   },
   {
    "duration": 9,
    "start_time": "2021-09-08T11:08:24.907Z"
   },
   {
    "duration": 350,
    "start_time": "2021-09-08T11:08:24.918Z"
   },
   {
    "duration": 17,
    "start_time": "2021-09-08T11:08:25.270Z"
   },
   {
    "duration": 10,
    "start_time": "2021-09-08T11:08:25.289Z"
   },
   {
    "duration": 8,
    "start_time": "2021-09-08T11:08:25.301Z"
   },
   {
    "duration": 492,
    "start_time": "2021-09-08T11:08:25.311Z"
   },
   {
    "duration": 10,
    "start_time": "2021-09-08T11:08:25.806Z"
   },
   {
    "duration": 54,
    "start_time": "2021-09-08T11:08:25.818Z"
   },
   {
    "duration": 300,
    "start_time": "2021-09-08T11:08:25.875Z"
   },
   {
    "duration": 16,
    "start_time": "2021-09-08T11:08:26.177Z"
   },
   {
    "duration": 12,
    "start_time": "2021-09-08T11:08:26.196Z"
   },
   {
    "duration": 6,
    "start_time": "2021-09-08T11:08:26.211Z"
   },
   {
    "duration": 15,
    "start_time": "2021-09-08T11:08:26.219Z"
   },
   {
    "duration": 46,
    "start_time": "2021-09-08T11:08:26.236Z"
   },
   {
    "duration": 45,
    "start_time": "2021-09-08T11:08:26.285Z"
   },
   {
    "duration": 1456,
    "start_time": "2021-09-09T08:48:39.858Z"
   },
   {
    "duration": 7,
    "start_time": "2021-09-09T08:48:41.317Z"
   },
   {
    "duration": 27,
    "start_time": "2021-09-09T08:48:41.328Z"
   },
   {
    "duration": 17,
    "start_time": "2021-09-09T08:48:41.358Z"
   },
   {
    "duration": 18,
    "start_time": "2021-09-09T08:48:41.378Z"
   },
   {
    "duration": 17,
    "start_time": "2021-09-09T08:48:41.398Z"
   },
   {
    "duration": 34,
    "start_time": "2021-09-09T08:48:41.417Z"
   },
   {
    "duration": 32,
    "start_time": "2021-09-09T08:48:41.455Z"
   },
   {
    "duration": 28,
    "start_time": "2021-09-09T08:48:41.490Z"
   },
   {
    "duration": 232,
    "start_time": "2021-09-09T08:48:41.520Z"
   },
   {
    "duration": 9,
    "start_time": "2021-09-09T08:48:41.754Z"
   },
   {
    "duration": 13,
    "start_time": "2021-09-09T08:48:41.766Z"
   },
   {
    "duration": 22,
    "start_time": "2021-09-09T08:48:41.782Z"
   },
   {
    "duration": 19,
    "start_time": "2021-09-09T08:48:41.806Z"
   },
   {
    "duration": 27,
    "start_time": "2021-09-09T08:48:41.827Z"
   },
   {
    "duration": 9,
    "start_time": "2021-09-09T08:48:41.857Z"
   },
   {
    "duration": 19,
    "start_time": "2021-09-09T08:48:41.868Z"
   },
   {
    "duration": 11,
    "start_time": "2021-09-09T08:48:41.889Z"
   },
   {
    "duration": 16,
    "start_time": "2021-09-09T08:48:41.902Z"
   },
   {
    "duration": 364,
    "start_time": "2021-09-09T08:48:41.920Z"
   },
   {
    "duration": 299,
    "start_time": "2021-09-09T08:48:42.286Z"
   },
   {
    "duration": 15,
    "start_time": "2021-09-09T08:48:42.588Z"
   },
   {
    "duration": 21,
    "start_time": "2021-09-09T08:48:42.608Z"
   },
   {
    "duration": 472,
    "start_time": "2021-09-09T08:48:42.632Z"
   },
   {
    "duration": 454,
    "start_time": "2021-09-09T08:48:43.107Z"
   },
   {
    "duration": 13,
    "start_time": "2021-09-09T08:48:43.564Z"
   },
   {
    "duration": 548,
    "start_time": "2021-09-09T08:48:43.580Z"
   },
   {
    "duration": 5,
    "start_time": "2021-09-09T08:48:44.130Z"
   },
   {
    "duration": 22,
    "start_time": "2021-09-09T08:48:44.137Z"
   },
   {
    "duration": 465,
    "start_time": "2021-09-09T08:48:44.161Z"
   },
   {
    "duration": 558,
    "start_time": "2021-09-09T08:48:44.628Z"
   },
   {
    "duration": 19,
    "start_time": "2021-09-09T08:48:45.188Z"
   },
   {
    "duration": 7,
    "start_time": "2021-09-09T08:48:45.209Z"
   },
   {
    "duration": 424,
    "start_time": "2021-09-09T08:48:45.218Z"
   },
   {
    "duration": 17,
    "start_time": "2021-09-09T08:48:45.644Z"
   },
   {
    "duration": 12,
    "start_time": "2021-09-09T08:48:45.663Z"
   },
   {
    "duration": 14,
    "start_time": "2021-09-09T08:48:45.677Z"
   },
   {
    "duration": 515,
    "start_time": "2021-09-09T08:48:45.694Z"
   },
   {
    "duration": 13,
    "start_time": "2021-09-09T08:48:46.212Z"
   },
   {
    "duration": 39,
    "start_time": "2021-09-09T08:48:46.228Z"
   },
   {
    "duration": 355,
    "start_time": "2021-09-09T08:48:46.271Z"
   },
   {
    "duration": 48,
    "start_time": "2021-09-09T08:48:46.637Z"
   },
   {
    "duration": 26,
    "start_time": "2021-09-09T08:48:46.688Z"
   },
   {
    "duration": 9,
    "start_time": "2021-09-09T08:48:46.717Z"
   },
   {
    "duration": 32,
    "start_time": "2021-09-09T08:48:46.728Z"
   },
   {
    "duration": 6,
    "start_time": "2021-09-09T08:48:46.762Z"
   },
   {
    "duration": 22,
    "start_time": "2021-09-09T08:48:46.770Z"
   }
  ],
  "kernelspec": {
   "display_name": "Python 3",
   "language": "python",
   "name": "python3"
  },
  "language_info": {
   "codemirror_mode": {
    "name": "ipython",
    "version": 3
   },
   "file_extension": ".py",
   "mimetype": "text/x-python",
   "name": "python",
   "nbconvert_exporter": "python",
   "pygments_lexer": "ipython3",
   "version": "3.8.8"
  },
  "toc": {
   "base_numbering": 1,
   "nav_menu": {},
   "number_sections": true,
   "sideBar": true,
   "skip_h1_title": true,
   "title_cell": "Table of Contents",
   "title_sidebar": "Contents",
   "toc_cell": false,
   "toc_position": {},
   "toc_section_display": true,
   "toc_window_display": false
  }
 },
 "nbformat": 4,
 "nbformat_minor": 5
}
